{
  "nbformat": 4,
  "nbformat_minor": 0,
  "metadata": {
    "colab": {
      "private_outputs": true,
      "provenance": [],
      "toc_visible": true,
      "authorship_tag": "ABX9TyOEvrsnFoH3vcqqpwkMQYAI",
      "include_colab_link": true
    },
    "kernelspec": {
      "name": "python3",
      "display_name": "Python 3"
    },
    "language_info": {
      "name": "python"
    }
  },
  "cells": [
    {
      "cell_type": "markdown",
      "metadata": {
        "id": "view-in-github",
        "colab_type": "text"
      },
      "source": [
        "<a href=\"https://colab.research.google.com/github/diptikothari2023/deep-learning/blob/main/dl1.ipynb\" target=\"_parent\"><img src=\"https://colab.research.google.com/assets/colab-badge.svg\" alt=\"Open In Colab\"/></a>"
      ]
    },
    {
      "cell_type": "markdown",
      "source": [
        "*   Dipti Kothari\n",
        "*   23070126040\n",
        "*   AI&ML A2 2023-27\n",
        "\n",
        "\n",
        "\n",
        "\n",
        "\n",
        "\n",
        "\n",
        "\n",
        "\n",
        "\n"
      ],
      "metadata": {
        "id": "rjf-oR9sMlKu"
      }
    },
    {
      "cell_type": "code",
      "execution_count": null,
      "metadata": {
        "id": "HhEkmbe6MXuX"
      },
      "outputs": [],
      "source": [
        "import numpy as np\n",
        "import pandas as pd\n",
        "from sklearn.model_selection import train_test_split\n",
        "from sklearn.preprocessing import StandardScaler, LabelEncoder\n",
        "from sklearn.naive_bayes import GaussianNB\n",
        "from sklearn.tree import DecisionTreeClassifier\n",
        "from sklearn.linear_model import LogisticRegression\n",
        "from sklearn.svm import SVC\n",
        "from sklearn.metrics import accuracy_score, classification_report"
      ]
    },
    {
      "cell_type": "code",
      "source": [
        "df = pd.read_csv('/content/Titanic-Dataset.csv')\n",
        "df.head()"
      ],
      "metadata": {
        "id": "I49PFMCWNTIa"
      },
      "execution_count": null,
      "outputs": []
    },
    {
      "cell_type": "code",
      "source": [
        "# Droping irrelevant columns\n",
        "df = df.drop(['PassengerId', 'Name', 'Ticket', 'Cabin'], axis=1)"
      ],
      "metadata": {
        "id": "-UATjtJKOHtG"
      },
      "execution_count": null,
      "outputs": []
    },
    {
      "cell_type": "code",
      "source": [
        "# Handling missing values\n",
        "df['Age'] = df['Age'].fillna(df['Age'].median())\n",
        "df['Fare'] = df['Fare'].fillna(df['Fare'].median())\n",
        "df['Embarked'] = df['Embarked'].fillna(df['Embarked'].mode()[0])"
      ],
      "metadata": {
        "id": "F3_K4M9kOTHK"
      },
      "execution_count": null,
      "outputs": []
    },
    {
      "cell_type": "code",
      "source": [
        "# Encode categorical features\n",
        "le = LabelEncoder()\n",
        "df['Sex'] = le.fit_transform(df['Sex'])         # male=1, female=0\n",
        "df['Embarked'] = le.fit_transform(df['Embarked'])  # S=2, C=0, Q=1"
      ],
      "metadata": {
        "id": "a7mkBioKOTyl"
      },
      "execution_count": null,
      "outputs": []
    },
    {
      "cell_type": "code",
      "source": [
        "#hot encoding embarked\n",
        "df['Embarked'] = le.inverse_transform(df['Embarked'])\n",
        "\n",
        "df = pd.get_dummies(df, columns=['Embarked'], prefix='Embarked')"
      ],
      "metadata": {
        "id": "L_5ChT6uTGPY"
      },
      "execution_count": null,
      "outputs": []
    },
    {
      "cell_type": "code",
      "source": [
        "# Define features and target\n",
        "X = df.drop('Survived', axis=1)\n",
        "y = df['Survived']"
      ],
      "metadata": {
        "id": "xJ9c0_6POhEE"
      },
      "execution_count": null,
      "outputs": []
    },
    {
      "cell_type": "code",
      "source": [
        "# Standardize features\n",
        "scaler = StandardScaler()\n",
        "X_scaled = scaler.fit_transform(X)"
      ],
      "metadata": {
        "id": "2DxPSg5NOkwT"
      },
      "execution_count": null,
      "outputs": []
    },
    {
      "cell_type": "code",
      "source": [
        "# Train-test split\n",
        "X_train, X_test, y_train, y_test = train_test_split(X_scaled, y, test_size=0.2, random_state=42)"
      ],
      "metadata": {
        "id": "ar_w3YGlOlhy"
      },
      "execution_count": null,
      "outputs": []
    },
    {
      "cell_type": "markdown",
      "source": [
        "Naives Bayes Model"
      ],
      "metadata": {
        "id": "WOAJRjmTTmPx"
      }
    },
    {
      "cell_type": "code",
      "source": [
        "# Naive Bayes model\n",
        "nb_model = GaussianNB()\n",
        "nb_model.fit(X_train, y_train)\n",
        "\n",
        "y_pred_nb = nb_model.predict(X_test)\n",
        "\n",
        "# Evaluation\n",
        "print(\"=== Naive Bayes ===\")\n",
        "print(\"Accuracy:\", accuracy_score(y_test, y_pred_nb))\n",
        "print(classification_report(y_test, y_pred_nb))"
      ],
      "metadata": {
        "id": "Udvdaz2aOsUq"
      },
      "execution_count": null,
      "outputs": []
    },
    {
      "cell_type": "code",
      "source": [
        "#Logistic Regression model\n",
        "lr_model = LogisticRegression(max_iter=200)\n",
        "lr_model.fit(X_train, y_train)\n",
        "\n",
        "y_pred_lr = lr_model.predict(X_test)\n",
        "\n",
        "# Evaluation\n",
        "print(\"=== Logistic Regression ===\")\n",
        "print(\"Accuracy:\", accuracy_score(y_test, y_pred_lr))\n",
        "print(classification_report(y_test, y_pred_lr))"
      ],
      "metadata": {
        "id": "AglfODhwPP5r"
      },
      "execution_count": null,
      "outputs": []
    },
    {
      "cell_type": "code",
      "source": [
        "from sklearn.model_selection import GridSearchCV\n",
        "from sklearn.svm import SVC\n",
        "\n",
        "\n",
        "param_grid = {\n",
        "    'C': [0.5, 1, 2],\n",
        "    'gamma': ['scale'],\n",
        "    'kernel': ['rbf', 'linear']\n",
        "}\n",
        "\n",
        "\n",
        "grid = GridSearchCV(SVC(), param_grid, cv=5, scoring='accuracy', n_jobs=-1)\n",
        "grid.fit(X_train, y_train)\n",
        "\n",
        "# Best model and prediction\n",
        "best_svm = grid.best_estimator_\n",
        "y_pred_best = best_svm.predict(X_test)\n",
        "# Evaluation\n",
        "print(\"=== SVM ===\")\n",
        "print(\"Best SVM Accuracy:\", accuracy_score(y_test, y_pred_best))\n",
        "print(classification_report(y_test, y_pred_best))\n",
        "print(\"Best Parameters:\", grid.best_params_)\n"
      ],
      "metadata": {
        "id": "xsKl8G5BPTik"
      },
      "execution_count": null,
      "outputs": []
    },
    {
      "cell_type": "code",
      "source": [
        "#Decision Tree model\n",
        "dt_model = DecisionTreeClassifier()\n",
        "dt_model.fit(X_train, y_train)\n",
        "\n",
        "y_pred_dt = dt_model.predict(X_test)\n",
        "\n",
        "# Evaluation\n",
        "print(\"=== Decision Tree ===\")\n",
        "print(\"Accuracy:\", accuracy_score(y_test, y_pred_dt))\n",
        "print(classification_report(y_test, y_pred_dt))"
      ],
      "metadata": {
        "id": "ooPI7OaQPVYr"
      },
      "execution_count": null,
      "outputs": []
    },
    {
      "cell_type": "code",
      "source": [
        "import matplotlib.pyplot as plt\n",
        "\n",
        "# Collect accuracy scores\n",
        "accuracies = {\n",
        "    \"Naive Bayes\": accuracy_score(y_test, y_pred_nb),\n",
        "    \"Logistic Regression\": accuracy_score(y_test, y_pred_lr),\n",
        "    \"SVM\": accuracy_score(y_test, y_pred_best),\n",
        "    \"Decision Tree\": accuracy_score(y_test, y_pred_dt)\n",
        "}\n",
        "\n",
        "models = list(accuracies.keys())\n",
        "accuracy_values = list(accuracies.values())\n",
        "\n",
        "plt.figure(figsize=(10, 6))\n",
        "plt.bar(models, accuracy_values, color=['blue', 'green', 'red', 'purple'])\n",
        "plt.ylabel('Accuracy')\n",
        "plt.title('Model Accuracy Comparison')\n",
        "plt.ylim(0.7, 0.9) # Adjust y-limit for better visualization if needed\n",
        "plt.show()"
      ],
      "metadata": {
        "id": "Eq3XMU_tY-KW"
      },
      "execution_count": null,
      "outputs": []
    }
  ]
}